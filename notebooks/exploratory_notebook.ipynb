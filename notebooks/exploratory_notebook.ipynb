{
 "cells": [
  {
   "cell_type": "markdown",
   "id": "1974ed7e",
   "metadata": {},
   "source": [
    "0. Set up notebook to start from repo root"
   ]
  },
  {
   "cell_type": "code",
   "execution_count": 1,
   "id": "89d68463",
   "metadata": {},
   "outputs": [
    {
     "name": "stdout",
     "output_type": "stream",
     "text": [
      "C:\\Users\\benjo\\Documents\\Projects\\wildlife-camtrap-classification\n"
     ]
    }
   ],
   "source": [
    "import os\n",
    "%cd C:\\Users\\benjo\\Documents\\Projects\\wildlife-camtrap-classification"
   ]
  },
  {
   "cell_type": "markdown",
   "id": "05fd62b1",
   "metadata": {},
   "source": [
    "1. Data loading and making of manifest\n",
    "Extracts relevant data from the annotations json and converts and saves into a csv for future usage"
   ]
  },
  {
   "cell_type": "code",
   "execution_count": 2,
   "id": "f0a06243",
   "metadata": {},
   "outputs": [
    {
     "name": "stdout",
     "output_type": "stream",
     "text": [
      "cwd: C:\\Users\\benjo\\Documents\\Projects\\wildlife-camtrap-classification\n"
     ]
    }
   ],
   "source": [
    "images = r\"data/cct/images\"\n",
    "annotations = r\"data/cct/annotations/caltech_images_20210113.json\"\n",
    "manifest_out = r\"data/cct/manifest.csv\"\n",
    "counts_out = r\"data/cct/class_counts.csv\"\n",
    "missing_out = r\"data/cct/missing_files.txt\"\n",
    "\n",
    "print(\"cwd:\", os.getcwd())"
   ]
  },
  {
   "cell_type": "code",
   "execution_count": 3,
   "id": "d3a52e42",
   "metadata": {},
   "outputs": [
    {
     "name": "stdout",
     "output_type": "stream",
     "text": [
      "Manifest: data/cct/manifest.csv, Rows:243100\n",
      "Class Counts : data/cct/class_counts.csv\n"
     ]
    }
   ],
   "source": [
    "from src.data.make_manifest import load_coco, make_manifest_rows, write_manifest, write_counts\n",
    "\n",
    "coco = load_coco(annotations)\n",
    "rows,missing = make_manifest_rows(images,coco)\n",
    "write_manifest(rows,manifest_out)\n",
    "write_counts(rows,counts_out)\n",
    "if missing:\n",
    "    with open(missing_out, \"w\", encoding=\"utf-8\") as f:\n",
    "        f.write(\"\\n\".join(missing))\n",
    "print(f'Manifest: {manifest_out}, Rows:{len(rows)}')\n",
    "print(f'Class Counts : {counts_out}')\n",
    "if missing:\n",
    "    print(f'Missing Files: {missing_out}')\n"
   ]
  },
  {
   "cell_type": "markdown",
   "id": "01e99171",
   "metadata": {},
   "source": [
    "2. Data Preperation"
   ]
  },
  {
   "cell_type": "code",
   "execution_count": 4,
   "id": "bf248251",
   "metadata": {},
   "outputs": [
    {
     "name": "stdout",
     "output_type": "stream",
     "text": [
      "rel_path    0.0\n",
      "label       0.0\n",
      "location    0.0\n",
      "dtype: float64\n",
      "0\n"
     ]
    }
   ],
   "source": [
    "from src.data.split_dataset import load_manifest,split_df,summarise_split\n",
    "\n",
    "df = load_manifest(manifest_out)\n",
    "df.head()\n",
    "missing_per =(df.isna().sum() / len(df)) * 100\n",
    "print(missing_per)\n",
    "\n",
    "empty = df['label'].astype(str).str.strip() == ''\n",
    "print(empty.sum())"
   ]
  },
  {
   "cell_type": "markdown",
   "id": "f8a5bf41",
   "metadata": {},
   "source": [
    "From above cells can see in the dataset no missing label,image or path data which would impede training of model, so no intial changes necessary "
   ]
  },
  {
   "cell_type": "code",
   "execution_count": 5,
   "id": "e7fd8c4c",
   "metadata": {},
   "outputs": [
    {
     "name": "stderr",
     "output_type": "stream",
     "text": [
      "c:\\Users\\benjo\\Documents\\Projects\\wildlife-camtrap-classification\\venv\\Lib\\site-packages\\sklearn\\model_selection\\_split.py:1035: UserWarning: The least populated class in y has only 2 members, which is less than n_splits=5.\n",
      "  warnings.warn(\n"
     ]
    },
    {
     "data": {
      "text/html": [
       "<div>\n",
       "<style scoped>\n",
       "    .dataframe tbody tr th:only-of-type {\n",
       "        vertical-align: middle;\n",
       "    }\n",
       "\n",
       "    .dataframe tbody tr th {\n",
       "        vertical-align: top;\n",
       "    }\n",
       "\n",
       "    .dataframe thead th {\n",
       "        text-align: right;\n",
       "    }\n",
       "</style>\n",
       "<table border=\"1\" class=\"dataframe\">\n",
       "  <thead>\n",
       "    <tr style=\"text-align: right;\">\n",
       "      <th></th>\n",
       "      <th>split</th>\n",
       "      <th>rows</th>\n",
       "      <th>cols</th>\n",
       "      <th>n_classes</th>\n",
       "      <th>n_groups</th>\n",
       "      <th>empty_count</th>\n",
       "      <th>empty_pct</th>\n",
       "    </tr>\n",
       "  </thead>\n",
       "  <tbody>\n",
       "    <tr>\n",
       "      <th>0</th>\n",
       "      <td>Train</td>\n",
       "      <td>193815</td>\n",
       "      <td>3</td>\n",
       "      <td>22</td>\n",
       "      <td>110</td>\n",
       "      <td>107123</td>\n",
       "      <td>55.27</td>\n",
       "    </tr>\n",
       "    <tr>\n",
       "      <th>1</th>\n",
       "      <td>Test</td>\n",
       "      <td>25428</td>\n",
       "      <td>3</td>\n",
       "      <td>16</td>\n",
       "      <td>16</td>\n",
       "      <td>9667</td>\n",
       "      <td>38.02</td>\n",
       "    </tr>\n",
       "    <tr>\n",
       "      <th>2</th>\n",
       "      <td>Val</td>\n",
       "      <td>23857</td>\n",
       "      <td>3</td>\n",
       "      <td>16</td>\n",
       "      <td>14</td>\n",
       "      <td>8955</td>\n",
       "      <td>37.54</td>\n",
       "    </tr>\n",
       "  </tbody>\n",
       "</table>\n",
       "</div>"
      ],
      "text/plain": [
       "   split    rows  cols  n_classes  n_groups  empty_count  empty_pct\n",
       "0  Train  193815     3         22       110       107123      55.27\n",
       "1   Test   25428     3         16        16         9667      38.02\n",
       "2    Val   23857     3         16        14         8955      37.54"
      ]
     },
     "execution_count": 5,
     "metadata": {},
     "output_type": "execute_result"
    }
   ],
   "source": [
    "import pandas as pd\n",
    "\n",
    "train,test,val = split_df(df,0.8)\n",
    "\n",
    "splits_summary = pd.DataFrame([\n",
    "    summarise_split(train,'Train'),\n",
    "    summarise_split(test,'Test'),\n",
    "    summarise_split(val,'Val')\n",
    "])\n",
    "\n",
    "splits_summary"
   ]
  }
 ],
 "metadata": {
  "kernelspec": {
   "display_name": "venv (3.12.7)",
   "language": "python",
   "name": "python3"
  },
  "language_info": {
   "codemirror_mode": {
    "name": "ipython",
    "version": 3
   },
   "file_extension": ".py",
   "mimetype": "text/x-python",
   "name": "python",
   "nbconvert_exporter": "python",
   "pygments_lexer": "ipython3",
   "version": "3.12.7"
  }
 },
 "nbformat": 4,
 "nbformat_minor": 5
}
