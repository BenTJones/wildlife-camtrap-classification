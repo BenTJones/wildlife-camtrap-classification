{
 "cells": [
  {
   "cell_type": "markdown",
   "id": "1974ed7e",
   "metadata": {},
   "source": [
    "0. Set up notebook to start from repo root"
   ]
  },
  {
   "cell_type": "code",
   "execution_count": 2,
   "id": "89d68463",
   "metadata": {},
   "outputs": [
    {
     "name": "stdout",
     "output_type": "stream",
     "text": [
      "C:\\Users\\benjo\\Documents\\Projects\\wildlife-camtrap-classification\n"
     ]
    }
   ],
   "source": [
    "import os\n",
    "%cd C:\\Users\\benjo\\Documents\\Projects\\wildlife-camtrap-classification"
   ]
  },
  {
   "cell_type": "markdown",
   "id": "05fd62b1",
   "metadata": {},
   "source": [
    "1. Data loading and making of manifest\n",
    "Extracts relevant data from the annotations json and converts and saves into a csv for future usage"
   ]
  },
  {
   "cell_type": "code",
   "execution_count": 3,
   "id": "f0a06243",
   "metadata": {},
   "outputs": [
    {
     "name": "stdout",
     "output_type": "stream",
     "text": [
      "cwd: C:\\Users\\benjo\\Documents\\Projects\\wildlife-camtrap-classification\n"
     ]
    }
   ],
   "source": [
    "images = r\"data/cct/images\"\n",
    "annotations = r\"data/cct/annotations/caltech_images_20210113.json\"\n",
    "manifest_out = r\"data/cct/manifest.csv\"\n",
    "counts_out = r\"data/cct/class_counts.csv\"\n",
    "missing_out = r\"data/cct/missing_files.txt\"\n",
    "\n",
    "print(\"cwd:\", os.getcwd())"
   ]
  },
  {
   "cell_type": "code",
   "execution_count": 33,
   "id": "d3a52e42",
   "metadata": {},
   "outputs": [
    {
     "name": "stdout",
     "output_type": "stream",
     "text": [
      "Manifest: data/cct/manifest.csv, Rows:243100\n",
      "Class Counts : data/cct/class_counts.csv\n"
     ]
    }
   ],
   "source": [
    "from src.data.make_manifest import load_coco, make_manifest_rows, write_manifest, write_counts\n",
    "\n",
    "coco = load_coco(annotations)\n",
    "rows,missing = make_manifest_rows(images,coco)\n",
    "write_manifest(rows,manifest_out)\n",
    "write_counts(rows,counts_out)\n",
    "if missing:\n",
    "    with open(missing_out, \"w\", encoding=\"utf-8\") as f:\n",
    "        f.write(\"\\n\".join(missing))\n",
    "print(f'Manifest: {manifest_out}, Rows:{len(rows)}')\n",
    "print(f'Class Counts : {counts_out}')\n",
    "if missing:\n",
    "    print(f'Missing Files: {missing_out}')\n"
   ]
  },
  {
   "cell_type": "markdown",
   "id": "01e99171",
   "metadata": {},
   "source": [
    "2. Data Preperation"
   ]
  },
  {
   "cell_type": "code",
   "execution_count": 8,
   "id": "bf248251",
   "metadata": {},
   "outputs": [
    {
     "name": "stdout",
     "output_type": "stream",
     "text": [
      "rel_path    0.0\n",
      "label       0.0\n",
      "location    0.0\n",
      "dtype: float64\n",
      "0\n"
     ]
    }
   ],
   "source": [
    "from src.data.split_dataset import load_manifest,split_df\n",
    "\n",
    "df = load_manifest(manifest_out)\n",
    "df.head()\n",
    "missing_per =(df.isna().sum() / len(df)) * 100\n",
    "print(missing_per)\n",
    "\n",
    "empty = df['label'].astype(str).str.strip() == ''\n",
    "print(empty.sum())"
   ]
  },
  {
   "cell_type": "markdown",
   "id": "f8a5bf41",
   "metadata": {},
   "source": [
    "From above cells can see in the dataset no missing or empty label data which would impede training of model, so no intial changes necessary "
   ]
  },
  {
   "cell_type": "code",
   "execution_count": 7,
   "id": "e7fd8c4c",
   "metadata": {},
   "outputs": [
    {
     "name": "stderr",
     "output_type": "stream",
     "text": [
      "c:\\Users\\benjo\\Documents\\Projects\\wildlife-camtrap-classification\\venv\\Lib\\site-packages\\sklearn\\model_selection\\_split.py:1035: UserWarning: The least populated class in y has only 2 members, which is less than n_splits=5.\n",
      "  warnings.warn(\n"
     ]
    },
    {
     "ename": "KeyError",
     "evalue": "'locattion'",
     "output_type": "error",
     "traceback": [
      "\u001b[31m---------------------------------------------------------------------------\u001b[39m",
      "\u001b[31mKeyError\u001b[39m                                  Traceback (most recent call last)",
      "\u001b[36mFile \u001b[39m\u001b[32mc:\\Users\\benjo\\Documents\\Projects\\wildlife-camtrap-classification\\venv\\Lib\\site-packages\\pandas\\core\\indexes\\base.py:3812\u001b[39m, in \u001b[36mIndex.get_loc\u001b[39m\u001b[34m(self, key)\u001b[39m\n\u001b[32m   3811\u001b[39m \u001b[38;5;28;01mtry\u001b[39;00m:\n\u001b[32m-> \u001b[39m\u001b[32m3812\u001b[39m     \u001b[38;5;28;01mreturn\u001b[39;00m \u001b[38;5;28;43mself\u001b[39;49m\u001b[43m.\u001b[49m\u001b[43m_engine\u001b[49m\u001b[43m.\u001b[49m\u001b[43mget_loc\u001b[49m\u001b[43m(\u001b[49m\u001b[43mcasted_key\u001b[49m\u001b[43m)\u001b[49m\n\u001b[32m   3813\u001b[39m \u001b[38;5;28;01mexcept\u001b[39;00m \u001b[38;5;167;01mKeyError\u001b[39;00m \u001b[38;5;28;01mas\u001b[39;00m err:\n",
      "\u001b[36mFile \u001b[39m\u001b[32mpandas/_libs/index.pyx:167\u001b[39m, in \u001b[36mpandas._libs.index.IndexEngine.get_loc\u001b[39m\u001b[34m()\u001b[39m\n",
      "\u001b[36mFile \u001b[39m\u001b[32mpandas/_libs/index.pyx:196\u001b[39m, in \u001b[36mpandas._libs.index.IndexEngine.get_loc\u001b[39m\u001b[34m()\u001b[39m\n",
      "\u001b[36mFile \u001b[39m\u001b[32mpandas/_libs/hashtable_class_helper.pxi:7088\u001b[39m, in \u001b[36mpandas._libs.hashtable.PyObjectHashTable.get_item\u001b[39m\u001b[34m()\u001b[39m\n",
      "\u001b[36mFile \u001b[39m\u001b[32mpandas/_libs/hashtable_class_helper.pxi:7096\u001b[39m, in \u001b[36mpandas._libs.hashtable.PyObjectHashTable.get_item\u001b[39m\u001b[34m()\u001b[39m\n",
      "\u001b[31mKeyError\u001b[39m: 'locattion'",
      "\nThe above exception was the direct cause of the following exception:\n",
      "\u001b[31mKeyError\u001b[39m                                  Traceback (most recent call last)",
      "\u001b[36mCell\u001b[39m\u001b[36m \u001b[39m\u001b[32mIn[7]\u001b[39m\u001b[32m, line 1\u001b[39m\n\u001b[32m----> \u001b[39m\u001b[32m1\u001b[39m train,test,val = \u001b[43msplit_df\u001b[49m\u001b[43m(\u001b[49m\u001b[43mdf\u001b[49m\u001b[43m,\u001b[49m\u001b[32;43m0.8\u001b[39;49m\u001b[43m)\u001b[49m\n\u001b[32m      2\u001b[39m train.shape()\n\u001b[32m      3\u001b[39m test.shape()\n",
      "\u001b[36mFile \u001b[39m\u001b[32m~\\Documents\\Projects\\wildlife-camtrap-classification\\src\\data\\split_dataset.py:25\u001b[39m, in \u001b[36msplit_df\u001b[39m\u001b[34m(df, train_frac)\u001b[39m\n\u001b[32m     23\u001b[39m skf2 = StratifiedGroupKFold(n_splits=\u001b[32m2\u001b[39m,shuffle=\u001b[38;5;28;01mTrue\u001b[39;00m,random_state = seed)\n\u001b[32m     24\u001b[39m y2 = temp[\u001b[33m'\u001b[39m\u001b[33mlabel\u001b[39m\u001b[33m'\u001b[39m]\n\u001b[32m---> \u001b[39m\u001b[32m25\u001b[39m gr2 = temp[\u001b[33m'\u001b[39m\u001b[33mlocation\u001b[39m\u001b[33m'\u001b[39m]\n\u001b[32m     26\u001b[39m val_idx, test_idx = \u001b[38;5;28mnext\u001b[39m(skf2.split(temp,y2,gr2))\n\u001b[32m     28\u001b[39m val = temp.iloc[val_idx]\n",
      "\u001b[36mFile \u001b[39m\u001b[32mc:\\Users\\benjo\\Documents\\Projects\\wildlife-camtrap-classification\\venv\\Lib\\site-packages\\pandas\\core\\frame.py:4107\u001b[39m, in \u001b[36mDataFrame.__getitem__\u001b[39m\u001b[34m(self, key)\u001b[39m\n\u001b[32m   4105\u001b[39m \u001b[38;5;28;01mif\u001b[39;00m \u001b[38;5;28mself\u001b[39m.columns.nlevels > \u001b[32m1\u001b[39m:\n\u001b[32m   4106\u001b[39m     \u001b[38;5;28;01mreturn\u001b[39;00m \u001b[38;5;28mself\u001b[39m._getitem_multilevel(key)\n\u001b[32m-> \u001b[39m\u001b[32m4107\u001b[39m indexer = \u001b[38;5;28;43mself\u001b[39;49m\u001b[43m.\u001b[49m\u001b[43mcolumns\u001b[49m\u001b[43m.\u001b[49m\u001b[43mget_loc\u001b[49m\u001b[43m(\u001b[49m\u001b[43mkey\u001b[49m\u001b[43m)\u001b[49m\n\u001b[32m   4108\u001b[39m \u001b[38;5;28;01mif\u001b[39;00m is_integer(indexer):\n\u001b[32m   4109\u001b[39m     indexer = [indexer]\n",
      "\u001b[36mFile \u001b[39m\u001b[32mc:\\Users\\benjo\\Documents\\Projects\\wildlife-camtrap-classification\\venv\\Lib\\site-packages\\pandas\\core\\indexes\\base.py:3819\u001b[39m, in \u001b[36mIndex.get_loc\u001b[39m\u001b[34m(self, key)\u001b[39m\n\u001b[32m   3814\u001b[39m     \u001b[38;5;28;01mif\u001b[39;00m \u001b[38;5;28misinstance\u001b[39m(casted_key, \u001b[38;5;28mslice\u001b[39m) \u001b[38;5;129;01mor\u001b[39;00m (\n\u001b[32m   3815\u001b[39m         \u001b[38;5;28misinstance\u001b[39m(casted_key, abc.Iterable)\n\u001b[32m   3816\u001b[39m         \u001b[38;5;129;01mand\u001b[39;00m \u001b[38;5;28many\u001b[39m(\u001b[38;5;28misinstance\u001b[39m(x, \u001b[38;5;28mslice\u001b[39m) \u001b[38;5;28;01mfor\u001b[39;00m x \u001b[38;5;129;01min\u001b[39;00m casted_key)\n\u001b[32m   3817\u001b[39m     ):\n\u001b[32m   3818\u001b[39m         \u001b[38;5;28;01mraise\u001b[39;00m InvalidIndexError(key)\n\u001b[32m-> \u001b[39m\u001b[32m3819\u001b[39m     \u001b[38;5;28;01mraise\u001b[39;00m \u001b[38;5;167;01mKeyError\u001b[39;00m(key) \u001b[38;5;28;01mfrom\u001b[39;00m\u001b[38;5;250m \u001b[39m\u001b[34;01merr\u001b[39;00m\n\u001b[32m   3820\u001b[39m \u001b[38;5;28;01mexcept\u001b[39;00m \u001b[38;5;167;01mTypeError\u001b[39;00m:\n\u001b[32m   3821\u001b[39m     \u001b[38;5;66;03m# If we have a listlike key, _check_indexing_error will raise\u001b[39;00m\n\u001b[32m   3822\u001b[39m     \u001b[38;5;66;03m#  InvalidIndexError. Otherwise we fall through and re-raise\u001b[39;00m\n\u001b[32m   3823\u001b[39m     \u001b[38;5;66;03m#  the TypeError.\u001b[39;00m\n\u001b[32m   3824\u001b[39m     \u001b[38;5;28mself\u001b[39m._check_indexing_error(key)\n",
      "\u001b[31mKeyError\u001b[39m: 'locattion'"
     ]
    }
   ],
   "source": [
    "train,test,val = split_df(df,0.8)\n",
    "train.shape()\n",
    "test.shape()\n",
    "val.shape()"
   ]
  }
 ],
 "metadata": {
  "kernelspec": {
   "display_name": "venv (3.12.7)",
   "language": "python",
   "name": "python3"
  },
  "language_info": {
   "codemirror_mode": {
    "name": "ipython",
    "version": 3
   },
   "file_extension": ".py",
   "mimetype": "text/x-python",
   "name": "python",
   "nbconvert_exporter": "python",
   "pygments_lexer": "ipython3",
   "version": "3.12.7"
  }
 },
 "nbformat": 4,
 "nbformat_minor": 5
}
