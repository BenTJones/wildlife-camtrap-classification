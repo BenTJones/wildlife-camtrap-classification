{
 "cells": [
  {
   "cell_type": "code",
   "execution_count": null,
   "id": "67e7dbed",
   "metadata": {},
   "outputs": [
    {
     "name": "stdout",
     "output_type": "stream",
     "text": [
      "C:\\Users\\benjo\\Documents\\Projects\\wildlife-camtrap-classification\n",
      "C:\\Users\\benjo\\Documents\\Projects\\wildlife-camtrap-classification\n"
     ]
    }
   ],
   "source": [
    "import os\n",
    "%cd C:\\Users\\benjo\\Documents\\Projects\\wildlife-camtrap-classification"
   ]
  },
  {
   "cell_type": "markdown",
   "id": "89475fa1",
   "metadata": {},
   "source": [
    "0. Set-Up"
   ]
  },
  {
   "cell_type": "code",
   "execution_count": null,
   "id": "1cfe9df9",
   "metadata": {},
   "outputs": [],
   "source": [
    "from src.models.model import create_model\n",
    "import torch\n",
    "import pandas as pd\n",
    "from torch.utils.data import DataLoader\n",
    "from src.data.dataset import CCTImageDataset, transform_images,create_dataloader\n",
    "\n",
    "model_params = 'best_model.pth'\n",
    "model = create_model('data/cct/labels.json')   \n",
    "device = torch.device('cuda' if torch.cuda.is_available() else 'cpu')\n",
    "#Slightly redundant but done for practice if I use gpu machine.\n",
    "model.load_state_dict(torch.load(model_params))\n",
    "model.to(device)\n",
    "\n",
    "#Setting up the dataloader again in this notebook\n",
    "img_dir = 'data/cct/images/'\n",
    "test_df = pd.read_csv('data/cct/splits/test.csv')\n",
    "label_map = pd.read_json('data/cct/labels.json')\n",
    "test_t = transform_images(train = False,size = 224)\n",
    "test_dataset = CCTImageDataset(test_df,img_dir,label_map,test_t)\n",
    "test_loader = create_dataloader(\n",
    "    test_dataset,\n",
    "    batch_size=32,\n",
    "    shuffle= False\n",
    ")\n",
    "\n"
   ]
  },
  {
   "cell_type": "markdown",
   "id": "54196a1e",
   "metadata": {},
   "source": [
    "1. Metrics calculation"
   ]
  },
  {
   "cell_type": "code",
   "execution_count": null,
   "id": "dcdb7841",
   "metadata": {},
   "outputs": [],
   "source": [
    "from src.helpers.test import compute_preds\n",
    "from sklearn.metrics import classification_report\n",
    "\n",
    "\n",
    "y_true,y_preds = compute_preds(test_loader,model,device):\n",
    "    \n"
   ]
  }
 ],
 "metadata": {
  "kernelspec": {
   "display_name": "venv (3.12.7)",
   "language": "python",
   "name": "python3"
  },
  "language_info": {
   "codemirror_mode": {
    "name": "ipython",
    "version": 3
   },
   "file_extension": ".py",
   "mimetype": "text/x-python",
   "name": "python",
   "nbconvert_exporter": "python",
   "pygments_lexer": "ipython3",
   "version": "3.12.7"
  }
 },
 "nbformat": 4,
 "nbformat_minor": 5
}
