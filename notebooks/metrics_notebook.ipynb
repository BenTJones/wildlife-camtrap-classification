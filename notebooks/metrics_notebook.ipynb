{
 "cells": [
  {
   "cell_type": "code",
   "execution_count": 3,
   "id": "67e7dbed",
   "metadata": {},
   "outputs": [
    {
     "name": "stdout",
     "output_type": "stream",
     "text": [
      "C:\\Users\\benjo\\Documents\\Projects\\wildlife-camtrap-classification\n"
     ]
    }
   ],
   "source": [
    "import os\n",
    "%cd C:\\Users\\benjo\\Documents\\Projects\\wildlife-camtrap-classification"
   ]
  },
  {
   "cell_type": "markdown",
   "id": "89475fa1",
   "metadata": {},
   "source": [
    "0. Set-Up"
   ]
  },
  {
   "cell_type": "code",
   "execution_count": 6,
   "id": "1cfe9df9",
   "metadata": {},
   "outputs": [],
   "source": [
    "from src.models.model import create_model\n",
    "import torch\n",
    "import json\n",
    "import pandas as pd\n",
    "from torch.utils.data import DataLoader\n",
    "from src.data.dataset import CCTImageDataset, transform_images,create_dataloader\n",
    "\n",
    "model_params = 'best_model.pth'\n",
    "model = create_model('data/cct/labels.json')   \n",
    "device = torch.device('cuda' if torch.cuda.is_available() else 'cpu')\n",
    "#Slightly redundant but done for practice if I use gpu machine.\n",
    "model.load_state_dict(torch.load(model_params))\n",
    "model.to(device)\n",
    "\n",
    "#Setting up the dataloader again in this notebook\n",
    "img_dir = 'data/cct/images/'\n",
    "test_df = pd.read_csv('data/cct/splits/test.csv')\n",
    "with open('data/cct/labels.json','r') as f:\n",
    "    label_map = json.load(f)\n",
    "    \n",
    "test_t = transform_images(train = False,size = 224)\n",
    "test_dataset = CCTImageDataset(test_df,img_dir,label_map,test_t)\n",
    "test_loader = create_dataloader(\n",
    "    test_dataset,\n",
    "    batch_size=32,\n",
    "    shuffle= False\n",
    ")\n",
    "\n"
   ]
  },
  {
   "cell_type": "markdown",
   "id": "54196a1e",
   "metadata": {},
   "source": [
    "1. Metrics calculation"
   ]
  },
  {
   "cell_type": "code",
   "execution_count": null,
   "id": "dcdb7841",
   "metadata": {},
   "outputs": [],
   "source": [
    "from src.helpers.test import compute_preds\n",
    "from sklearn.metrics import classification_report\n",
    "y_true,y_preds = compute_preds(test_loader,model,device)\n"
   ]
  },
  {
   "cell_type": "code",
   "execution_count": 8,
   "id": "c90525e0",
   "metadata": {},
   "outputs": [
    {
     "name": "stdout",
     "output_type": "stream",
     "text": [
      "              precision    recall  f1-score   support\n",
      "\n",
      "           0       0.97      0.80      0.87      4568\n",
      "           1       0.25      0.72      0.37        47\n",
      "           2       0.60      0.81      0.69       644\n",
      "           3       0.61      0.37      0.46       584\n",
      "           4       0.47      0.84      0.60       201\n",
      "           5       0.67      0.42      0.51       124\n",
      "           6       0.25      0.66      0.36       413\n",
      "           7       0.52      0.48      0.50       130\n",
      "           8       0.00      0.00      0.00         0\n",
      "           9       0.55      0.94      0.70       130\n",
      "          10       0.22      0.03      0.05        69\n",
      "          11       0.53      0.46      0.49       198\n",
      "          12       0.48      0.19      0.28        83\n",
      "          13       0.79      0.48      0.60       383\n",
      "          14       0.09      0.33      0.15        52\n",
      "          15       0.64      0.80      0.71        46\n",
      "          16       0.00      0.00      0.00         7\n",
      "\n",
      "    accuracy                           0.71      7679\n",
      "   macro avg       0.45      0.49      0.43      7679\n",
      "weighted avg       0.80      0.71      0.73      7679\n",
      "\n"
     ]
    },
    {
     "name": "stderr",
     "output_type": "stream",
     "text": [
      "c:\\Users\\benjo\\Documents\\Projects\\wildlife-camtrap-classification\\venv\\Lib\\site-packages\\sklearn\\metrics\\_classification.py:1731: UndefinedMetricWarning: Recall is ill-defined and being set to 0.0 in labels with no true samples. Use `zero_division` parameter to control this behavior.\n",
      "  _warn_prf(average, modifier, f\"{metric.capitalize()} is\", result.shape[0])\n",
      "c:\\Users\\benjo\\Documents\\Projects\\wildlife-camtrap-classification\\venv\\Lib\\site-packages\\sklearn\\metrics\\_classification.py:1731: UndefinedMetricWarning: Recall is ill-defined and being set to 0.0 in labels with no true samples. Use `zero_division` parameter to control this behavior.\n",
      "  _warn_prf(average, modifier, f\"{metric.capitalize()} is\", result.shape[0])\n",
      "c:\\Users\\benjo\\Documents\\Projects\\wildlife-camtrap-classification\\venv\\Lib\\site-packages\\sklearn\\metrics\\_classification.py:1731: UndefinedMetricWarning: Recall is ill-defined and being set to 0.0 in labels with no true samples. Use `zero_division` parameter to control this behavior.\n",
      "  _warn_prf(average, modifier, f\"{metric.capitalize()} is\", result.shape[0])\n"
     ]
    }
   ],
   "source": [
    "print(classification_report(y_true,y_preds))\n"
   ]
  }
 ],
 "metadata": {
  "kernelspec": {
   "display_name": "venv (3.12.7)",
   "language": "python",
   "name": "python3"
  },
  "language_info": {
   "codemirror_mode": {
    "name": "ipython",
    "version": 3
   },
   "file_extension": ".py",
   "mimetype": "text/x-python",
   "name": "python",
   "nbconvert_exporter": "python",
   "pygments_lexer": "ipython3",
   "version": "3.12.7"
  }
 },
 "nbformat": 4,
 "nbformat_minor": 5
}
